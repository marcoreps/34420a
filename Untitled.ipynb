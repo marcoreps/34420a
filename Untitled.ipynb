{
 "cells": [
  {
   "cell_type": "code",
   "execution_count": 7,
   "id": "4a35f8dc-0201-41af-806f-83e17e3c1e17",
   "metadata": {
    "tags": []
   },
   "outputs": [
    {
     "data": {
      "text/plain": [
       "array([-13.1  ,  -8.396,  -9.887, ..., -15.215, -10.929, -15.176])"
      ]
     },
     "execution_count": 7,
     "metadata": {},
     "output_type": "execute_result"
    }
   ],
   "source": [
    "import numpy as np\n",
    "import matplotlib.pyplot as plt\n",
    "import scipy.signal\n",
    "from matplotlib.ticker import EngFormatter\n",
    "from matplotlib.ticker import FormatStrFormatter\n",
    "\n",
    "def conv(x):\n",
    "    return x.replace(',', '.').encode()\n",
    "\n",
    "arr=np.genfromtxt((conv(x) for x in open(\"C:/Users/reps/long_run_truncated.csv\")),delimiter=';')\n",
    "arr\n",
    "\n",
    "\n"
   ]
  },
  {
   "cell_type": "code",
   "execution_count": null,
   "id": "acf6fcc3-7087-469f-956e-4c0854f82f30",
   "metadata": {},
   "outputs": [],
   "source": []
  }
 ],
 "metadata": {
  "kernelspec": {
   "display_name": "Python 3 (ipykernel)",
   "language": "python",
   "name": "python3"
  },
  "language_info": {
   "codemirror_mode": {
    "name": "ipython",
    "version": 3
   },
   "file_extension": ".py",
   "mimetype": "text/x-python",
   "name": "python",
   "nbconvert_exporter": "python",
   "pygments_lexer": "ipython3",
   "version": "3.11.5"
  }
 },
 "nbformat": 4,
 "nbformat_minor": 5
}
