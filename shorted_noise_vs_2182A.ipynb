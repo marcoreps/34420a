{
 "cells": [
  {
   "cell_type": "code",
   "execution_count": null,
   "id": "056431fd-a2ca-4e15-8a19-7d35c91d9571",
   "metadata": {
    "tags": []
   },
   "outputs": [],
   "source": [
    "import pandas as pd\n",
    "from lpsd import lpsd, flattop # https://gitlab.com/uhh-gwd/lpsd\n",
    "import matplotlib.pyplot as plt\n",
    "from matplotlib.ticker import FormatStrFormatter\n",
    "from matplotlib.ticker import EngFormatter\n",
    "import numpy as np\n",
    "\n",
    "# Set up plot\n",
    "fig,ax = plt.subplots(figsize=(16,9))\n",
    "plt.loglog()\n",
    "plt.xlim([0.0001,1])\n",
    "plt.xlabel('frequency [Hz]')\n",
    "ax.xaxis.set_major_formatter(FormatStrFormatter('%.4f'))\n",
    "ax.yaxis.set_major_formatter(EngFormatter())\n",
    "ax.yaxis.set_minor_formatter(EngFormatter())\n",
    "plt.ylabel(r'Noise [$\\frac{V}{\\sqrt{Hz}}$]')\n",
    "plt.grid(True, which=\"both\")\n",
    "plt.title('Shorted Nanovoltmeter Noise, assuming NPLC setting as sample rate')\n",
    "\n",
    "# Array from .csv\n",
    "df = pd.read_csv('https://raw.githubusercontent.com/marcoreps/34420a/refs/heads/main/20241109-204412_Keysight_34420A_short_NPLC10.csv')\n",
    "spectrum = lpsd(df['34420a_volt'], sample_rate=5, n_frequencies=100000, n_averages=300000, window_function=flattop.HFT90D, overlap = flattop.olap_dict[\"HFT90D\"], detrending_order=1)\n",
    "plt.plot(spectrum.index, spectrum[\"asd\"], label='Keysight 34420A, NPLC 10, FILT OFF, DEL 0')\n",
    "\n",
    "# Array from .csv\n",
    "df = pd.read_csv('https://raw.githubusercontent.com/marcoreps/34420a/refs/heads/main/20240319-164251_HP_34420A_short_NPLC100.csv')\n",
    "spectrum = lpsd(df['34420a_volt'], sample_rate=0.5, n_frequencies=100000, n_averages=300000, window_function=flattop.HFT90D, overlap = flattop.olap_dict[\"HFT90D\"], detrending_order=1)\n",
    "plt.plot(spectrum.index, spectrum[\"asd\"], label='Hewlett Packard 34420A, NPLC 100, FILT OFF, DEL 0')\n",
    "\n",
    "# Array from .csv\n",
    "df = pd.read_csv('https://raw.githubusercontent.com/marcoreps/34420a/refs/heads/main/20240320-070507_Keysight_34420A_short_NPLC100.csv')\n",
    "spectrum = lpsd(df['34420a_volt'], sample_rate=0.5, n_frequencies=100000, n_averages=300000, window_function=flattop.HFT90D, overlap = flattop.olap_dict[\"HFT90D\"], detrending_order=1)\n",
    "plt.plot(spectrum.index, spectrum[\"asd\"], label='Keysight 34420A, NPLC 100, FILT OFF, DEL 0')\n",
    "\n",
    "# Array from .csv\n",
    "df = pd.read_csv('https://raw.githubusercontent.com/marcoreps/keithley-2182a/refs/heads/main/20240425-231708_Keithley_2182a_short_NPLC5.csv', header=24, names=['2182a_volt'])\n",
    "spectrum = lpsd(df['2182a_volt'], sample_rate=10, n_frequencies=100000, n_averages=300000, window_function=flattop.HFT90D, overlap = flattop.olap_dict[\"HFT90D\"], detrending_order=1)\n",
    "plt.plot(spectrum.index, spectrum[\"asd\"], label='Keithley 2182A, NPLC 5, LPAS OFF, DFIL OFF, AZER ON, FAZ ON')\n",
    "\n",
    "# Array from .csv\n",
    "df = pd.read_csv('https://raw.githubusercontent.com/marcoreps/34420a/refs/heads/main/20241110-130058_HP_34420A_short_NPLC100.csv')\n",
    "spectrum = lpsd(df['34420a_volt'], sample_rate=0.5, n_frequencies=100000, n_averages=300000, window_function=flattop.HFT90D, overlap = flattop.olap_dict[\"HFT90D\"], detrending_order=1)\n",
    "plt.plot(spectrum.index, spectrum[\"asd\"], label='Keysight 34420A, NPLC 100, FILT OFF, DEL 0')\n",
    "\n",
    "plt.legend()"
   ]
  },
  {
   "cell_type": "code",
   "execution_count": null,
   "id": "d0642560-4d0e-4c7d-a6ad-8dbc9198ad55",
   "metadata": {},
   "outputs": [],
   "source": []
  }
 ],
 "metadata": {
  "kernelspec": {
   "display_name": "Python 3 (ipykernel)",
   "language": "python",
   "name": "python3"
  },
  "language_info": {
   "codemirror_mode": {
    "name": "ipython",
    "version": 3
   },
   "file_extension": ".py",
   "mimetype": "text/x-python",
   "name": "python",
   "nbconvert_exporter": "python",
   "pygments_lexer": "ipython3",
   "version": "3.11.5"
  }
 },
 "nbformat": 4,
 "nbformat_minor": 5
}
